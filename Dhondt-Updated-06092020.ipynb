{
 "cells": [
  {
   "cell_type": "markdown",
   "metadata": {},
   "source": [
    "Import necessary libraries"
   ]
  },
  {
   "cell_type": "code",
   "execution_count": 97,
   "metadata": {},
   "outputs": [],
   "source": [
    "import numpy as py\n",
    "import pandas as pd\n",
    "import openpyxl \n",
    "from openpyxl.utils.dataframe import dataframe_to_rows"
   ]
  },
  {
   "cell_type": "markdown",
   "metadata": {},
   "source": [
    "Load and Prep Data"
   ]
  },
  {
   "cell_type": "code",
   "execution_count": 98,
   "metadata": {},
   "outputs": [],
   "source": [
    "#Load election results\n",
    "election_results = pd.read_csv('Results.csv')\n",
    "#Load new constituencies\n",
    "file = 'New Constituencies.xlsx'\n",
    "xl = pd.ExcelFile(file)\n",
    "#Sheet 9 contains mapping of Province names to Old constituency names and new contituency names\n",
    "new_constituencies = xl.parse('Sheet9')\n",
    "#Sheet 1 contains mapping of Provinces to new constituency names and the seats per province\n",
    "seats_df = xl.parse('Sheet1')\n",
    "nc = pd.DataFrame(new_constituencies['New Constituencies'].unique().tolist())\n",
    "#Here we are merging data from Sheet 1 and Sheet 9 based on the new constituency names, which is common for both sheets, to obtain the number of seats per new constituency\n",
    "nc_up = pd.merge(nc, seats_df, left_on=0,right_on = 'New Constituency')\n",
    "nc_up=nc_up.drop([0,'Province'], axis = 1)"
   ]
  },
  {
   "cell_type": "code",
   "execution_count": 99,
   "metadata": {},
   "outputs": [],
   "source": [
    "#Separate the election results into preliminary and validated \n",
    "#For this project, we will only be using validated election results\n",
    "results_val = election_results.loc[election_results['Type of results'] == 'validated']\n",
    "results_prelim = election_results.loc[election_results['Type of results'] == 'preliminary']"
   ]
  },
  {
   "cell_type": "code",
   "execution_count": 100,
   "metadata": {},
   "outputs": [],
   "source": [
    "# Get aggregated number of votes for each political party\n",
    "pei=results_val.groupby('Political affiliation')['Votes obtained'].sum()\n",
    "pei=pei.to_frame()"
   ]
  },
  {
   "cell_type": "code",
   "execution_count": 101,
   "metadata": {},
   "outputs": [],
   "source": [
    "#Merge the validated election results with the new_constituencies table. This essentially assigns newly created constituencies discussed in our research to vote based on the Provice from where the vote came.\n",
    "#The electoral district name and province name did not match in some cases, and had to be manually altered. The main issue here was the use of 2 hyphens in Electoral district name. \n",
    "df_combo = pd.merge(results_val,new_constituencies, left_on=\"Electoral district name\",right_on =\"Provinces\")"
   ]
  },
  {
   "cell_type": "code",
   "execution_count": 102,
   "metadata": {},
   "outputs": [],
   "source": [
    "#Drop columns that will not be used\n",
    "df_combo=df_combo.drop(['Provinces','Appartenance politique','% Votes obtained'], axis = 1)\n",
    "df_combo1 = df_combo.drop(['Type of results','Surname','Given name','Rejected ballots','Total number of ballots cast'], axis = 1)\n",
    "df_combo1 = df_combo1.drop([\"Middle name(s) \"], axis = 1)"
   ]
  },
  {
   "cell_type": "code",
   "execution_count": 103,
   "metadata": {},
   "outputs": [],
   "source": [
    "#Aggregate the votes obtained per party by each of the new constituencies that are discussed in the research\n",
    "votesgrouped = df_combo1.groupby(['New Constituencies','Political affiliation'])[\"Votes obtained\"].apply(lambda x : x.astype(int).sum())"
   ]
  },
  {
   "cell_type": "code",
   "execution_count": 104,
   "metadata": {},
   "outputs": [],
   "source": [
    "votesgrouped.to_csv('Votes.csv',header=True,encoding='utf-8-sig')\n",
    "votesgrouped = pd.read_csv('Votes.csv')"
   ]
  },
  {
   "cell_type": "code",
   "execution_count": 105,
   "metadata": {},
   "outputs": [],
   "source": [
    "#Only select the parties that are classified as popular parties\n",
    "array = ['Liberal','Conservative','Bloc Québécois','Green Party','NDP-New Democratic Party']\n",
    "votesgrp1=votesgrouped.loc[votesgrouped['Political affiliation'].isin(array)]\n",
    "#votesgrp1=votesgrouped"
   ]
  },
  {
   "cell_type": "code",
   "execution_count": 106,
   "metadata": {},
   "outputs": [],
   "source": [
    "#pei_new=votesgrp1.groupby('Political affiliation')['Votes obtained'].sum()\n",
    "pei_new=votesgrp1"
   ]
  },
  {
   "cell_type": "code",
   "execution_count": 107,
   "metadata": {},
   "outputs": [],
   "source": [
    "#rename the original Votes Obtained column to Votes_Seat0\n",
    "pei_new.rename(columns={'Votes obtained': 'Votes_Seat0'}, inplace=True)"
   ]
  },
  {
   "cell_type": "code",
   "execution_count": 108,
   "metadata": {},
   "outputs": [],
   "source": [
    "df_merge = pd.merge(pei_new, nc_up, left_on='New Constituencies',right_on ='New Constituency')\n",
    "df_merge = df_merge.rename(columns={'New Constituencies': 'New_Constituencies','Votes_Seat1': 'Votes_Seat0'})"
   ]
  },
  {
   "cell_type": "markdown",
   "metadata": {},
   "source": [
    "In this section we implement the D'Hondt formula. \n",
    "The requirement for this implementation is that there will be atleast one seat assignment. This implementation then allows the user to see the seat distributions between various parties based on any number of seat assignments."
   ]
  },
  {
   "cell_type": "code",
   "execution_count": 109,
   "metadata": {},
   "outputs": [],
   "source": [
    "wb = openpyxl.Workbook()"
   ]
  },
  {
   "cell_type": "code",
   "execution_count": 110,
   "metadata": {},
   "outputs": [],
   "source": [
    "wb.save(\"DHondt Results.xlsx\") "
   ]
  },
  {
   "cell_type": "code",
   "execution_count": 111,
   "metadata": {},
   "outputs": [
    {
     "name": "stderr",
     "output_type": "stream",
     "text": [
      "C:\\Users\\primu\\anaconda3\\lib\\site-packages\\ipykernel_launcher.py:10: SettingWithCopyWarning: \n",
      "A value is trying to be set on a copy of a slice from a DataFrame.\n",
      "Try using .loc[row_indexer,col_indexer] = value instead\n",
      "\n",
      "See the caveats in the documentation: https://pandas.pydata.org/pandas-docs/stable/user_guide/indexing.html#returning-a-view-versus-a-copy\n",
      "  # Remove the CWD from sys.path while we load stuff.\n",
      "C:\\Users\\primu\\anaconda3\\lib\\site-packages\\ipykernel_launcher.py:22: SettingWithCopyWarning: \n",
      "A value is trying to be set on a copy of a slice from a DataFrame.\n",
      "Try using .loc[row_indexer,col_indexer] = value instead\n",
      "\n",
      "See the caveats in the documentation: https://pandas.pydata.org/pandas-docs/stable/user_guide/indexing.html#returning-a-view-versus-a-copy\n",
      "C:\\Users\\primu\\anaconda3\\lib\\site-packages\\ipykernel_launcher.py:25: SettingWithCopyWarning: \n",
      "A value is trying to be set on a copy of a slice from a DataFrame.\n",
      "Try using .loc[row_indexer,col_indexer] = value instead\n",
      "\n",
      "See the caveats in the documentation: https://pandas.pydata.org/pandas-docs/stable/user_guide/indexing.html#returning-a-view-versus-a-copy\n"
     ]
    }
   ],
   "source": [
    "for j in range(1,nc_up.shape[0]): #for each of the 57 new constituencies, we will calculate the seat allocation per party\n",
    "    #The first step here is to get the results for each constituency\n",
    "    aa=df_merge[df_merge.New_Constituencies==nc_up['New Constituency'].iloc[j]]\n",
    "    #Next we assign a new variable seats with the number of seats designated for constituency j\n",
    "    seats = int(nc_up['Number of Seats'].iloc[j])\n",
    "    #A new variable, first_max_new is created to store the maximum number of votes a party in constituency j received\n",
    "    first_max_new = pei_new['Votes_Seat0'].max()\n",
    "    # Here a new variable seat_new is being initialized. \n",
    "    seat_new = 0\n",
    "    aa['Seats_Seat0'] = seat_new\n",
    "    aa.reset_index(inplace=True)\n",
    "    #If the number of votes of a party for constituency j is the highest, then that party for constituency j is awarded a seat.\n",
    "    aa.loc[aa['Votes_Seat0'] == first_max_new, 'Seats_Seat0'] = 1\n",
    "    for i in range (1,(seats+1)):\n",
    "        #The following 4 lines of code is used to get the previous and current vote values and seat allocations\n",
    "        col_name_votes = 'Votes_Seat'+str(i)\n",
    "        col_name_votes_prev = 'Votes_Seat'+str(i-1)\n",
    "        col_name_seats = 'Seats_Seat'+str(i)\n",
    "        col_name_seats_prev = 'Seats_Seat'+str(i-1)\n",
    "        \n",
    "        #In this line of code, we are calculating the number of votes a party will receive. This is the DHondt formula\n",
    "        aa[col_name_votes]=aa[col_name_votes_prev]/(1+aa[col_name_seats_prev])\n",
    "        #In this line of code we are assigning the highest number of new votes from the previous calculation to a variable. \n",
    "        max_val = aa[col_name_votes].max()\n",
    "        aa[col_name_seats] = aa[col_name_seats_prev]\n",
    "        #Here we are checking which party's new votes matches the max_val votes, then that party is assigned a seat.\n",
    "        aa.loc[aa[col_name_votes] == max_val, col_name_seats] = aa[col_name_seats_prev] + 1\n",
    "    #Creating a new sheet in the excel file for each new constituency\n",
    "    sheetname = nc_up['New Constituency'].iloc[j]\n",
    "    sheet=wb.create_sheet(index = 1 , title = sheetname[:10]) \n",
    "    aa=aa.drop(['Seats_Seat0'], axis=1)\n",
    "    \n",
    "    for r in dataframe_to_rows(aa, index=True, header=True):\n",
    "        sheet.append(r)\n",
    "wb.save(\"DHondt Results.xlsx\") \n",
    "    "
   ]
  },
  {
   "cell_type": "code",
   "execution_count": null,
   "metadata": {},
   "outputs": [],
   "source": []
  }
 ],
 "metadata": {
  "kernelspec": {
   "display_name": "Python 3",
   "language": "python",
   "name": "python3"
  },
  "language_info": {
   "codemirror_mode": {
    "name": "ipython",
    "version": 3
   },
   "file_extension": ".py",
   "mimetype": "text/x-python",
   "name": "python",
   "nbconvert_exporter": "python",
   "pygments_lexer": "ipython3",
   "version": "3.7.6"
  }
 },
 "nbformat": 4,
 "nbformat_minor": 2
}
