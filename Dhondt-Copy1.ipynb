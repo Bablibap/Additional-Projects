{
 "cells": [
  {
   "cell_type": "markdown",
   "metadata": {},
   "source": [
    "Import necessary libraries"
   ]
  },
  {
   "cell_type": "code",
   "execution_count": 18,
   "metadata": {},
   "outputs": [],
   "source": [
    "import numpy as py\n",
    "import pandas as pd\n",
    "import openpyxl \n",
    "from openpyxl.utils.dataframe import dataframe_to_rows"
   ]
  },
  {
   "cell_type": "markdown",
   "metadata": {},
   "source": [
    "Load and Prep Data"
   ]
  },
  {
   "cell_type": "code",
   "execution_count": 19,
   "metadata": {},
   "outputs": [],
   "source": [
    "#Load election results\n",
    "election_results = pd.read_csv('Results.csv')\n",
    "#Load new constituencies\n",
    "file = 'New Constituencies.xlsx'\n",
    "xl = pd.ExcelFile(file)\n",
    "new_constituencies = xl.parse('Sheet9')\n",
    "seats_df = xl.parse('Sheet1')\n",
    "nc = pd.DataFrame(new_constituencies['New Constituencies'].unique().tolist())\n",
    "nc_up = pd.merge(nc, seats_df, left_on=0,right_on = 'New Constituency')\n",
    "nc_up=nc_up.drop([0,'Province'], axis = 1)"
   ]
  },
  {
   "cell_type": "code",
   "execution_count": 20,
   "metadata": {},
   "outputs": [],
   "source": [
    "#Separate the election results into preliminary and validated \n",
    "#For this project, we will only be using validated election results\n",
    "results_val = election_results.loc[election_results['Type of results'] == 'validated']\n",
    "results_prelim = election_results.loc[election_results['Type of results'] == 'preliminary']"
   ]
  },
  {
   "cell_type": "code",
   "execution_count": 21,
   "metadata": {},
   "outputs": [],
   "source": [
    "# Get aggregated number of votes for each political party\n",
    "pei=results_val.groupby('Political affiliation')['Votes obtained'].sum()\n",
    "pei=pei.to_frame()"
   ]
  },
  {
   "cell_type": "code",
   "execution_count": 22,
   "metadata": {},
   "outputs": [],
   "source": [
    "#Merge the validated election results with the new_constituencies table. This essentially assigns newly created constituencies discussed in our research to vote based on the Provice from where the vote came.\n",
    "df_combo = pd.merge(results_val,new_constituencies, left_on=\"Electoral district name\",right_on =\"Provinces\")"
   ]
  },
  {
   "cell_type": "code",
   "execution_count": 23,
   "metadata": {},
   "outputs": [],
   "source": [
    "#Drop columns that will not be used\n",
    "df_combo=df_combo.drop(['Provinces','Appartenance politique','% Votes obtained'], axis = 1)\n",
    "df_combo1 = df_combo.drop(['Type of results','Surname','Given name','Rejected ballots','Total number of ballots cast'], axis = 1)\n",
    "df_combo1 = df_combo1.drop([\"Middle name(s) \"], axis = 1)"
   ]
  },
  {
   "cell_type": "code",
   "execution_count": 24,
   "metadata": {},
   "outputs": [],
   "source": [
    "#Aggregate the votes obtained per party by each of the new constituencies that are discussed in the research\n",
    "votesgrouped = df_combo1.groupby(['New Constituencies','Political affiliation'])[\"Votes obtained\"].apply(lambda x : x.astype(int).sum())"
   ]
  },
  {
   "cell_type": "code",
   "execution_count": 25,
   "metadata": {},
   "outputs": [],
   "source": [
    "votesgrouped.to_csv('Votes.csv',header=True,encoding='utf-8-sig')\n",
    "votesgrouped = pd.read_csv('Votes.csv')"
   ]
  },
  {
   "cell_type": "code",
   "execution_count": 26,
   "metadata": {},
   "outputs": [],
   "source": [
    "#Only select the parties that are classified as popular parties\n",
    "array = ['Liberal','Conservative','Bloc Québécois','Green Party','NDP-New Democratic Party']\n",
    "votesgrp1=votesgrouped.loc[votesgrouped['Political affiliation'].isin(array)]\n",
    "#votesgrp1=votesgrouped"
   ]
  },
  {
   "cell_type": "code",
   "execution_count": 27,
   "metadata": {},
   "outputs": [],
   "source": [
    "#pei_new=votesgrp1.groupby('Political affiliation')['Votes obtained'].sum()\n",
    "pei_new=votesgrp1"
   ]
  },
  {
   "cell_type": "code",
   "execution_count": 28,
   "metadata": {},
   "outputs": [],
   "source": [
    "#rename the original Votes Obtained column to Votes_Seat1\n",
    "pei_new.rename(columns={'Votes obtained': 'Votes_Seat1'}, inplace=True)"
   ]
  },
  {
   "cell_type": "code",
   "execution_count": 29,
   "metadata": {},
   "outputs": [],
   "source": [
    "df_merge = pd.merge(pei_new, nc_up, left_on='New Constituencies',right_on ='New Constituency')"
   ]
  },
  {
   "cell_type": "code",
   "execution_count": 30,
   "metadata": {},
   "outputs": [],
   "source": [
    "df_merge.rename(columns={'New Constituencies': 'New_Constituencies'}, inplace=True)"
   ]
  },
  {
   "cell_type": "code",
   "execution_count": 31,
   "metadata": {},
   "outputs": [],
   "source": [
    "#df_merge=df_merge.drop(['Unnamed: 0','New Constituency'], axis = 1)"
   ]
  },
  {
   "cell_type": "markdown",
   "metadata": {},
   "source": [
    "In this section we implement the D'Hondt formula. \n",
    "The requirement for this implementation is that there will be atleast one seat assignment. This implementation then allows the user to see the seat distributions between various parties based on any number of seat assignments."
   ]
  },
  {
   "cell_type": "code",
   "execution_count": 32,
   "metadata": {},
   "outputs": [],
   "source": [
    "wb = openpyxl.Workbook()"
   ]
  },
  {
   "cell_type": "code",
   "execution_count": 33,
   "metadata": {},
   "outputs": [],
   "source": [
    "wb.save(\"DHondt Results.xlsx\") "
   ]
  },
  {
   "cell_type": "code",
   "execution_count": 34,
   "metadata": {},
   "outputs": [
    {
     "name": "stderr",
     "output_type": "stream",
     "text": [
      "C:\\Users\\primu\\Anaconda3\\lib\\site-packages\\ipykernel_launcher.py:6: SettingWithCopyWarning: \n",
      "A value is trying to be set on a copy of a slice from a DataFrame.\n",
      "Try using .loc[row_indexer,col_indexer] = value instead\n",
      "\n",
      "See the caveats in the documentation: http://pandas.pydata.org/pandas-docs/stable/user_guide/indexing.html#returning-a-view-versus-a-copy\n",
      "  \n",
      "C:\\Users\\primu\\Anaconda3\\lib\\site-packages\\ipykernel_launcher.py:14: SettingWithCopyWarning: \n",
      "A value is trying to be set on a copy of a slice from a DataFrame.\n",
      "Try using .loc[row_indexer,col_indexer] = value instead\n",
      "\n",
      "See the caveats in the documentation: http://pandas.pydata.org/pandas-docs/stable/user_guide/indexing.html#returning-a-view-versus-a-copy\n",
      "  \n",
      "C:\\Users\\primu\\Anaconda3\\lib\\site-packages\\ipykernel_launcher.py:16: SettingWithCopyWarning: \n",
      "A value is trying to be set on a copy of a slice from a DataFrame.\n",
      "Try using .loc[row_indexer,col_indexer] = value instead\n",
      "\n",
      "See the caveats in the documentation: http://pandas.pydata.org/pandas-docs/stable/user_guide/indexing.html#returning-a-view-versus-a-copy\n",
      "  app.launch_new_instance()\n"
     ]
    }
   ],
   "source": [
    "for j in range(1,nc_up.shape[0]): #for each new constituency, we will calculate the seat allocation per party\n",
    "    aa=df_merge[df_merge.New_Constituencies==nc_up['New Constituency'].iloc[j]]\n",
    "    seats = int(nc_up['Number of Seats'].iloc[j])\n",
    "    first_max_new = pei_new['Votes_Seat1'].max()\n",
    "    seat_new = 0\n",
    "    aa['Seats_Seat1'] = seat_new\n",
    "    aa.reset_index(inplace=True)\n",
    "    aa.loc[aa['Votes_Seat1'] == first_max_new, 'Seats_Seat1'] = 1\n",
    "    for i in range (2,(seats+1)):\n",
    "        col_name_votes = 'Votes_Seat'+str(i)\n",
    "        col_name_votes_prev = 'Votes_Seat'+str(i-1)\n",
    "        col_name_seats = 'Seats_Seat'+str(i)\n",
    "        col_name_seats_prev = 'Seats_Seat'+str(i-1)\n",
    "        aa[col_name_votes]=aa['Votes_Seat1']/(1+aa[col_name_seats_prev])\n",
    "        max_val = aa[col_name_votes].max()\n",
    "        aa[col_name_seats] = aa[col_name_seats_prev]\n",
    "        aa.loc[aa[col_name_votes] == max_val, col_name_seats] = aa[col_name_seats_prev] + 1\n",
    "    sheetname = nc_up['New Constituency'].iloc[j]\n",
    "    sheet=wb.create_sheet(index = 1 , title = sheetname[:10]) \n",
    "    for r in dataframe_to_rows(aa, index=True, header=True):\n",
    "        sheet.append(r)\n",
    "wb.save(\"DHondt Results.xlsx\") \n",
    "    "
   ]
  },
  {
   "cell_type": "code",
   "execution_count": null,
   "metadata": {},
   "outputs": [],
   "source": []
  }
 ],
 "metadata": {
  "kernelspec": {
   "display_name": "Python 3",
   "language": "python",
   "name": "python3"
  },
  "language_info": {
   "codemirror_mode": {
    "name": "ipython",
    "version": 3
   },
   "file_extension": ".py",
   "mimetype": "text/x-python",
   "name": "python",
   "nbconvert_exporter": "python",
   "pygments_lexer": "ipython3",
   "version": "3.7.4"
  }
 },
 "nbformat": 4,
 "nbformat_minor": 2
}
