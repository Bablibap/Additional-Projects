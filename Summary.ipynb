{
 "cells": [
  {
   "cell_type": "markdown",
   "metadata": {},
   "source": [
    "Import necessary libraries"
   ]
  },
  {
   "cell_type": "code",
   "execution_count": null,
   "metadata": {},
   "outputs": [],
   "source": [
    "import numpy as py\n",
    "import pandas as pd"
   ]
  },
  {
   "cell_type": "markdown",
   "metadata": {},
   "source": [
    "Read the election results from csv file"
   ]
  },
  {
   "cell_type": "code",
   "execution_count": null,
   "metadata": {},
   "outputs": [],
   "source": [
    "election_results = pd.read_csv('Results.csv')"
   ]
  },
  {
   "cell_type": "markdown",
   "metadata": {},
   "source": [
    "Read the New constituencies file which is an excel file"
   ]
  },
  {
   "cell_type": "code",
   "execution_count": 14,
   "metadata": {},
   "outputs": [],
   "source": [
    "file = 'New Constituencies.xlsx'\n",
    "xl = pd.ExcelFile(file)\n",
    "new_constituencies = xl.parse('Sheet1')"
   ]
  },
  {
   "cell_type": "markdown",
   "metadata": {},
   "source": [
    "Separate the \"Validated\" and \"Preliminary\" election results into two separate datasets. For this project, we will only use the Validated election results"
   ]
  },
  {
   "cell_type": "code",
   "execution_count": 25,
   "metadata": {
    "scrolled": true
   },
   "outputs": [
    {
     "data": {
      "text/html": [
       "<div>\n",
       "<style scoped>\n",
       "    .dataframe tbody tr th:only-of-type {\n",
       "        vertical-align: middle;\n",
       "    }\n",
       "\n",
       "    .dataframe tbody tr th {\n",
       "        vertical-align: top;\n",
       "    }\n",
       "\n",
       "    .dataframe thead th {\n",
       "        text-align: right;\n",
       "    }\n",
       "</style>\n",
       "<table border=\"1\" class=\"dataframe\">\n",
       "  <thead>\n",
       "    <tr style=\"text-align: right;\">\n",
       "      <th></th>\n",
       "      <th>Electoral district number</th>\n",
       "      <th>Electoral district name</th>\n",
       "      <th>Type of results</th>\n",
       "      <th>Surname</th>\n",
       "      <th>Middle name(s)</th>\n",
       "      <th>Given name</th>\n",
       "      <th>Political affiliation</th>\n",
       "      <th>Appartenance politique</th>\n",
       "      <th>Votes obtained</th>\n",
       "      <th>% Votes obtained</th>\n",
       "      <th>Rejected ballots</th>\n",
       "      <th>Total number of ballots cast</th>\n",
       "    </tr>\n",
       "  </thead>\n",
       "  <tbody>\n",
       "    <tr>\n",
       "      <td>0</td>\n",
       "      <td>10001</td>\n",
       "      <td>Avalon</td>\n",
       "      <td>preliminary</td>\n",
       "      <td>Chapman</td>\n",
       "      <td>NaN</td>\n",
       "      <td>Matthew</td>\n",
       "      <td>Conservative</td>\n",
       "      <td>Conservateur</td>\n",
       "      <td>12538.0</td>\n",
       "      <td>31.0</td>\n",
       "      <td>0.0</td>\n",
       "      <td>40457.0</td>\n",
       "    </tr>\n",
       "    <tr>\n",
       "      <td>1</td>\n",
       "      <td>10001</td>\n",
       "      <td>Avalon</td>\n",
       "      <td>preliminary</td>\n",
       "      <td>Malone</td>\n",
       "      <td>NaN</td>\n",
       "      <td>Greg</td>\n",
       "      <td>Green Party</td>\n",
       "      <td>Parti Vert</td>\n",
       "      <td>2172.0</td>\n",
       "      <td>5.4</td>\n",
       "      <td>0.0</td>\n",
       "      <td>40457.0</td>\n",
       "    </tr>\n",
       "    <tr>\n",
       "      <td>2</td>\n",
       "      <td>10001</td>\n",
       "      <td>Avalon</td>\n",
       "      <td>preliminary</td>\n",
       "      <td>McDonald</td>\n",
       "      <td>NaN</td>\n",
       "      <td>Kenneth</td>\n",
       "      <td>Liberal</td>\n",
       "      <td>Libéral</td>\n",
       "      <td>18646.0</td>\n",
       "      <td>46.1</td>\n",
       "      <td>0.0</td>\n",
       "      <td>40457.0</td>\n",
       "    </tr>\n",
       "    <tr>\n",
       "      <td>3</td>\n",
       "      <td>10001</td>\n",
       "      <td>Avalon</td>\n",
       "      <td>preliminary</td>\n",
       "      <td>Movelle</td>\n",
       "      <td>NaN</td>\n",
       "      <td>Lea Mary</td>\n",
       "      <td>NDP-New Democratic Party</td>\n",
       "      <td>NPD-Nouveau Parti démocratique</td>\n",
       "      <td>7101.0</td>\n",
       "      <td>17.6</td>\n",
       "      <td>0.0</td>\n",
       "      <td>40457.0</td>\n",
       "    </tr>\n",
       "    <tr>\n",
       "      <td>8</td>\n",
       "      <td>10002</td>\n",
       "      <td>Bonavista--Burin--Trinity</td>\n",
       "      <td>preliminary</td>\n",
       "      <td>Cooper</td>\n",
       "      <td>NaN</td>\n",
       "      <td>Matthew</td>\n",
       "      <td>NDP-New Democratic Party</td>\n",
       "      <td>NPD-Nouveau Parti démocratique</td>\n",
       "      <td>3855.0</td>\n",
       "      <td>12.0</td>\n",
       "      <td>0.0</td>\n",
       "      <td>32173.0</td>\n",
       "    </tr>\n",
       "  </tbody>\n",
       "</table>\n",
       "</div>"
      ],
      "text/plain": [
       "  Electoral district number    Electoral district name Type of results  \\\n",
       "0                     10001                     Avalon     preliminary   \n",
       "1                     10001                     Avalon     preliminary   \n",
       "2                     10001                     Avalon     preliminary   \n",
       "3                     10001                     Avalon     preliminary   \n",
       "8                     10002  Bonavista--Burin--Trinity     preliminary   \n",
       "\n",
       "    Surname  Middle name(s)  Given name     Political affiliation  \\\n",
       "0   Chapman              NaN    Matthew              Conservative   \n",
       "1    Malone              NaN       Greg               Green Party   \n",
       "2  McDonald              NaN    Kenneth                   Liberal   \n",
       "3   Movelle              NaN   Lea Mary  NDP-New Democratic Party   \n",
       "8    Cooper              NaN    Matthew  NDP-New Democratic Party   \n",
       "\n",
       "           Appartenance politique  Votes obtained  % Votes obtained  \\\n",
       "0                    Conservateur         12538.0              31.0   \n",
       "1                      Parti Vert          2172.0               5.4   \n",
       "2                         Libéral         18646.0              46.1   \n",
       "3  NPD-Nouveau Parti démocratique          7101.0              17.6   \n",
       "8  NPD-Nouveau Parti démocratique          3855.0              12.0   \n",
       "\n",
       "   Rejected ballots  Total number of ballots cast  \n",
       "0               0.0                       40457.0  \n",
       "1               0.0                       40457.0  \n",
       "2               0.0                       40457.0  \n",
       "3               0.0                       40457.0  \n",
       "8               0.0                       32173.0  "
      ]
     },
     "execution_count": 25,
     "metadata": {},
     "output_type": "execute_result"
    }
   ],
   "source": [
    "results_val = election_results.loc[election_results['Type of results'] == 'validated']\n",
    "\n",
    "results_prelim = election_results.loc[election_results['Type of results'] == 'preliminary']\n"
   ]
  },
  {
   "cell_type": "markdown",
   "metadata": {},
   "source": [
    "Group the election results by the political party and calculate the votes obtained per political party"
   ]
  },
  {
   "cell_type": "code",
   "execution_count": 110,
   "metadata": {},
   "outputs": [],
   "source": [
    "pei=results_val.groupby('Political affiliation')['Votes obtained'].sum()\n",
    "pei=pei.to_frame()"
   ]
  },
  {
   "cell_type": "markdown",
   "metadata": {},
   "source": [
    "STEP 1: Calculate the following:\n",
    "Maximum votes \n",
    "STEP 2: The party with maximum votes is then assigned a value of 1 to the number of seats it earns"
   ]
  },
  {
   "cell_type": "code",
   "execution_count": 121,
   "metadata": {},
   "outputs": [],
   "source": [
    "first_max = pei['Votes obtained'].max()\n",
    "seat = 0\n",
    "pei['Seats_Seat1'] = seat\n",
    "pei.reset_index(inplace=True)\n",
    "pei.loc[pei['Votes obtained'] == first_max, 'Seats_Seat1'] = 1"
   ]
  },
  {
   "cell_type": "markdown",
   "metadata": {},
   "source": [
    "STEP 3: Using D'Hondt formula, the number of votes for the second seat for each party is calculated as:\n",
    "Number of votes(seat1)/(1+Number of Seats received in Seat 1)\n",
    "STEP 4: Further, to assign the number of seats a party earns, the following formula is used:\n",
    "if a party is identified as having max number of votes(as per the calculation in STEP 3) then:\n",
    "number of seats a party receives is equal to number of seats(from STEP 2) + 1"
   ]
  },
  {
   "cell_type": "code",
   "execution_count": null,
   "metadata": {},
   "outputs": [],
   "source": [
    "pei['Votes_Seat2']=pei['Votes obtained']/(1+pei['Seats_Seat1'])\n",
    "second_max = pei['Votes_Seat2'].max()\n",
    "seat2 = 0\n",
    "pei['Seats_Seat2'] = pei['Seats_Seat1']\n",
    "pei.loc[pei['Votes_Seat2'] == second_max, 'Seats_Seat2'] = pei['Seats_Seat1'] + 1"
   ]
  },
  {
   "cell_type": "markdown",
   "metadata": {},
   "source": [
    "STEP 5: Using D'Hondt formula, the number of votes for the third seat for each party is calculated as:\n",
    "Number of votes(seat1)/(1+Number of Seats received in Seat 2)\n",
    "STEP 6: Further, to assign the number of seats a party earns, the following formula is used:\n",
    "if a party is identified as having max number of votes(as per the calculation in STEP 5) then:\n",
    "number of seats a party receives is equal to number of seats(from STEP 4) + 1"
   ]
  },
  {
   "cell_type": "code",
   "execution_count": 123,
   "metadata": {},
   "outputs": [],
   "source": [
    "pei['Votes_Seat3']=pei['Votes_Seat2']/(1+pei['Seats_Seat2'])\n",
    "third_max = pei['Votes_Seat3'].max()\n",
    "seat3 = 0\n",
    "pei['Seats_Seat3'] = pei['Seats_Seat2']\n",
    "pei.loc[pei['Votes_Seat3'] == third_max, 'Seats_Seat3'] = pei['Seats_Seat2'] + 1"
   ]
  },
  {
   "cell_type": "markdown",
   "metadata": {},
   "source": [
    "STEP 7: Using D'Hondt formula, the number of votes for the fourth seat for each party is calculated as:\n",
    "Number of votes(seat1)/(1+Number of Seats received in Seat 4)\n",
    "STEP 8: Further, to assign the number of seats a party earns, the following formula is used:\n",
    "if a party is identified as having max number of votes(as per the calculation in STEP 7) then:\n",
    "number of seats a party receives is equal to number of seats(from STEP 6) + 1"
   ]
  },
  {
   "cell_type": "code",
   "execution_count": 125,
   "metadata": {},
   "outputs": [],
   "source": [
    "pei['Votes_Seat4']=pei['Votes_Seat3']/(1+pei['Seats_Seat3'])\n",
    "fourth_max = pei['Votes_Seat4'].max()\n",
    "seat4 = 0\n",
    "pei['Seats_Seat4'] = pei['Seats_Seat3']\n",
    "pei.loc[pei['Votes_Seat4'] == fourth_max, 'Seats_Seat4'] = pei['Seats_Seat3'] + 1"
   ]
  },
  {
   "cell_type": "code",
   "execution_count": 127,
   "metadata": {},
   "outputs": [],
   "source": [
    "pei.to_csv('Summary.csv')"
   ]
  },
  {
   "cell_type": "code",
   "execution_count": null,
   "metadata": {},
   "outputs": [],
   "source": []
  }
 ],
 "metadata": {
  "kernelspec": {
   "display_name": "Python 3",
   "language": "python",
   "name": "python3"
  },
  "language_info": {
   "codemirror_mode": {
    "name": "ipython",
    "version": 3
   },
   "file_extension": ".py",
   "mimetype": "text/x-python",
   "name": "python",
   "nbconvert_exporter": "python",
   "pygments_lexer": "ipython3",
   "version": "3.7.4"
  }
 },
 "nbformat": 4,
 "nbformat_minor": 2
}
